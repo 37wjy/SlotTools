{
 "cells": [
  {
   "cell_type": "code",
   "execution_count": 8,
   "metadata": {},
   "outputs": [],
   "source": [
    "import pandas as pd\n",
    "import numpy as np\n",
    "import json\n",
    "import os\n"
   ]
  },
  {
   "cell_type": "code",
   "execution_count": 80,
   "metadata": {},
   "outputs": [],
   "source": [
    "\n",
    "for fn in os.listdir('./csv'):\n",
    "    if fn.find('.csv') > 0:\n",
    "        df = pd.read_csv(f\"./csv/{fn}\")\n",
    "\n",
    "        if fn.find(\".const.\")>0:\n",
    "            data = {r[0]:r[1] for r in df.values}\n",
    "            with open(f'./json/{fn[:-4]}.json', 'w') as f:\n",
    "                json.dump(data, f, ensure_ascii=True, indent='\\t')\n",
    "            continue\n",
    "\n",
    "        dtype = df.iloc[0]\n",
    "        df = df[2:]\n",
    "\n",
    "        for c in df.columns:\n",
    "            if dtype[c] == 'int':\n",
    "                df[c] = df[c].apply(int)\n",
    "            if dtype[c] == 'float':\n",
    "                df[c] = df[c].astype(float)\n",
    "            if dtype[c] == 'list':\n",
    "                df[c] = df[c].apply(eval)\n",
    "            if dtype[c] == 'dict':\n",
    "                df[c] = df[c].apply(eval)\n",
    "\n",
    "        if fn.find('.list.') > 0:\n",
    "            with open(f'./json/{fn[:-4]}.json', 'w') as f:\n",
    "                json.dump(list(df.T.to_dict().values()), f, ensure_ascii=True, indent='\\t')\n",
    "        else:\n",
    "            df.set_index(df.columns[0],inplace=True)\n",
    "            with open(f'./json/{fn[:-4]}.json', 'w') as f:\n",
    "                json.dump(df.T.to_dict(), f, ensure_ascii=True, indent='\\t')\n"
   ]
  }
 ],
 "metadata": {
  "kernelspec": {
   "display_name": "Python 3.9.12 ('base')",
   "language": "python",
   "name": "python3"
  },
  "language_info": {
   "codemirror_mode": {
    "name": "ipython",
    "version": 3
   },
   "file_extension": ".py",
   "mimetype": "text/x-python",
   "name": "python",
   "nbconvert_exporter": "python",
   "pygments_lexer": "ipython3",
   "version": "3.9.12"
  },
  "orig_nbformat": 4,
  "vscode": {
   "interpreter": {
    "hash": "13a1a071d98bf6f45b98dce4ec0c48943db42675bcfc58efca993f4a558cc42a"
   }
  }
 },
 "nbformat": 4,
 "nbformat_minor": 2
}
